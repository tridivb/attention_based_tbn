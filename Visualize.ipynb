{
 "cells": [
  {
   "cell_type": "code",
   "execution_count": 2,
   "metadata": {},
   "outputs": [],
   "source": [
    "#!/usr/bin/env python\n",
    "import torch\n",
    "import ipywidgets as widgets\n",
    "from ipywidgets import interact_manual, interact, fixed\n",
    "from IPython.display import Video\n",
    "\n",
    "from core.tools import initialize, visualize, get_interest_points\n",
    "\n",
    "torch.multiprocessing.set_sharing_strategy(\"file_system\")"
   ]
  },
  {
   "cell_type": "code",
   "execution_count": 3,
   "metadata": {},
   "outputs": [
    {
     "name": "stdout",
     "output_type": "stream",
     "text": [
      "Initializing model...\n",
      "Model initialized with imagenet weights\n",
      "Freezing the batchnorms of Base Model RGB except first or new layers.\n",
      "Model initialized with imagenet weights\n",
      "Freezing the batchnorms of Base Model Audio except first or new layers.\n",
      "Model initialized.\n",
      "----------------------------------------------------------\n",
      "Loading pre-trained weights /media/data/tridiv/epic/tbn_weights/prior_kl_contrast_0.1/seen/epic_tbn_bninception_RGB_Audio.pth...\n",
      "Done.\n",
      "----------------------------------------------------------\n",
      "Reading list of test videos...\n",
      "Done.\n",
      "----------------------------------------------------------\n",
      "Creating the dataset using annotations/EPIC_train_action_labels.csv...\n",
      "Done.\n",
      "----------------------------------------------------------\n"
     ]
    }
   ],
   "source": [
    "cfg, model, criterion, dataset, epic_classes, device = initialize(\"config/config_vis.yaml\")"
   ]
  },
  {
   "cell_type": "code",
   "execution_count": 4,
   "metadata": {},
   "outputs": [
    {
     "name": "stderr",
     "output_type": "stream",
     "text": [
      "100%|██████████| 2398/2398 [01:17<00:00, 30.96it/s]\n"
     ]
    },
    {
     "data": {
      "text/plain": [
       "array([1005,  982,  994, ..., 1227, 2335, 1485])"
      ]
     },
     "execution_count": 4,
     "metadata": {},
     "output_type": "execute_result"
    }
   ],
   "source": [
    "pts = get_interest_points(model, criterion, dataset, device, topk=len(dataset))\n",
    "pts"
   ]
  },
  {
   "cell_type": "code",
   "execution_count": 5,
   "metadata": {},
   "outputs": [
    {
     "data": {
      "application/vnd.jupyter.widget-view+json": {
       "model_id": "ef6556c3555b473da5e7aeca1f9ebd2d",
       "version_major": 2,
       "version_minor": 0
      },
      "text/plain": [
       "interactive(children=(IntSlider(value=1, continuous_update=False, description='index', max=2398, min=1), Outpu…"
      ]
     },
     "metadata": {},
     "output_type": "display_data"
    },
    {
     "data": {
      "text/plain": [
       "<function core.tools.vis.visualize(cfg, model, dataset, index, epic_classes, device)>"
      ]
     },
     "execution_count": 5,
     "metadata": {},
     "output_type": "execute_result"
    }
   ],
   "source": [
    "%matplotlib inline\n",
    "interact_manual(visualize, cfg=fixed(cfg), model=fixed(model), dataset=fixed(dataset), index=widgets.IntSlider(min=1, max=len(dataset), step=1, value=0), epic_classes=fixed(epic_classes), device=fixed(device))"
   ]
  },
  {
   "cell_type": "code",
   "execution_count": 10,
   "metadata": {},
   "outputs": [
    {
     "data": {
      "text/html": [
       "<video src=\"results/temp.MP4\" controls  width=\"455\"  height=\"256\">\n",
       "      Your browser does not support the <code>video</code> element.\n",
       "    </video>"
      ],
      "text/plain": [
       "<IPython.core.display.Video object>"
      ]
     },
     "execution_count": 10,
     "metadata": {},
     "output_type": "execute_result"
    }
   ],
   "source": [
    "Video(\"results/temp.MP4\", height=256, width=455)"
   ]
  }
 ],
 "metadata": {
  "kernelspec": {
   "display_name": "Python 3",
   "language": "python",
   "name": "python3"
  },
  "language_info": {
   "codemirror_mode": {
    "name": "ipython",
    "version": 3
   },
   "file_extension": ".py",
   "mimetype": "text/x-python",
   "name": "python",
   "nbconvert_exporter": "python",
   "pygments_lexer": "ipython3",
   "version": "3.7.5"
  }
 },
 "nbformat": 4,
 "nbformat_minor": 4
}
